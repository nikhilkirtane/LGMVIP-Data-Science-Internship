{
  "nbformat": 4,
  "nbformat_minor": 0,
  "metadata": {
    "colab": {
      "provenance": [],
      "authorship_tag": "ABX9TyPhEuo3cAeUYpQ2wJ1aNIFH",
      "include_colab_link": true
    },
    "kernelspec": {
      "name": "python3",
      "display_name": "Python 3"
    },
    "language_info": {
      "name": "python"
    }
  },
  "cells": [
    {
      "cell_type": "markdown",
      "metadata": {
        "id": "view-in-github",
        "colab_type": "text"
      },
      "source": [
        "<a href=\"https://colab.research.google.com/github/nikhilkirtane/LGMVIP-Data-Science-Internship/blob/main/task4.ipynb\" target=\"_parent\"><img src=\"https://colab.research.google.com/assets/colab-badge.svg\" alt=\"Open In Colab\"/></a>"
      ]
    },
    {
      "cell_type": "markdown",
      "source": [
        "Advanced Level Task-4\n",
        "\n",
        "Next Word Prediction using Tensorflow and keras library"
      ],
      "metadata": {
        "id": "FAXI5seqHj0k"
      }
    },
    {
      "cell_type": "markdown",
      "source": [
        "Import the python libraries"
      ],
      "metadata": {
        "id": "Fo0fqu6GH_-4"
      }
    },
    {
      "cell_type": "code",
      "execution_count": 1,
      "metadata": {
        "id": "PA6fVyG7aqDN"
      },
      "outputs": [],
      "source": [
        "import numpy as np\n",
        "import tensorflow as tf\n",
        "from tensorflow.keras.preprocessing.text import Tokenizer\n",
        "from tensorflow.keras.preprocessing.sequence import pad_sequences"
      ]
    },
    {
      "cell_type": "markdown",
      "source": [
        "Load the text data"
      ],
      "metadata": {
        "id": "6HzvBOxCIbzO"
      }
    },
    {
      "cell_type": "code",
      "source": [
        "with open('1661-0.txt', 'r', encoding='utf-8') as file:\n",
        "    text = file.read()"
      ],
      "metadata": {
        "id": "2JOBzwUiIfLT"
      },
      "execution_count": 2,
      "outputs": []
    },
    {
      "cell_type": "markdown",
      "source": [
        "preprocessing the text data and convert into lowercase then split into words"
      ],
      "metadata": {
        "id": "Nb7-aFzKI03Q"
      }
    },
    {
      "cell_type": "code",
      "source": [
        "cls = text.lower().split() #where cls-convert into lowercase and split"
      ],
      "metadata": {
        "id": "R22LSxZ1JGmM"
      },
      "execution_count": 3,
      "outputs": []
    },
    {
      "cell_type": "markdown",
      "source": [
        "create and perform the tokenization"
      ],
      "metadata": {
        "id": "oyVsJl4fJd-S"
      }
    },
    {
      "cell_type": "code",
      "source": [
        "tokenizer = Tokenizer()\n",
        "tokenizer.fit_on_texts(cls)\n",
        "total_words = len(tokenizer.word_index) + 1"
      ],
      "metadata": {
        "id": "36w4BuFUJjPs"
      },
      "execution_count": 5,
      "outputs": []
    },
    {
      "cell_type": "markdown",
      "source": [
        "create input sequences"
      ],
      "metadata": {
        "id": "efzw9JamJwEW"
      }
    },
    {
      "cell_type": "code",
      "source": [
        "input_sequences = []\n",
        "for i in range(1, len(cls)):\n",
        "    sequence = cls[i-1:i+1]\n",
        "    input_sequences.append(sequence)"
      ],
      "metadata": {
        "id": "zLhOaG2oJvGg"
      },
      "execution_count": 6,
      "outputs": []
    },
    {
      "cell_type": "markdown",
      "source": [
        "Convert input sequence into numeric"
      ],
      "metadata": {
        "id": "lWw0Z34_KEfs"
      }
    },
    {
      "cell_type": "code",
      "source": [
        "numeric = tokenizer.texts_to_sequences(input_sequences)"
      ],
      "metadata": {
        "id": "NvoGNzO1KDxj"
      },
      "execution_count": 7,
      "outputs": []
    },
    {
      "cell_type": "markdown",
      "source": [
        "padding sequences into consistent length"
      ],
      "metadata": {
        "id": "cg4w5fBYKaqa"
      }
    },
    {
      "cell_type": "code",
      "source": [
        "msl = max([len(seq) for seq in numeric]) #msl- maximum sequence length\n",
        "numeric = pad_sequences(numeric, maxlen=msl, padding='pre')"
      ],
      "metadata": {
        "id": "zfT85_CnKZkt"
      },
      "execution_count": 8,
      "outputs": []
    },
    {
      "cell_type": "markdown",
      "source": [
        "split numeric into input x and label y"
      ],
      "metadata": {
        "id": "GJaKMsKaLIPh"
      }
    },
    {
      "cell_type": "code",
      "source": [
        "X = numeric[:, 0]\n",
        "y = numeric[:, 1]"
      ],
      "metadata": {
        "id": "ylLPqQ6tLCVm"
      },
      "execution_count": 9,
      "outputs": []
    },
    {
      "cell_type": "markdown",
      "source": [
        "Building the RNN model"
      ],
      "metadata": {
        "id": "XrzbZL-vLf6_"
      }
    },
    {
      "cell_type": "code",
      "source": [
        "model = tf.keras.Sequential([\n",
        "    tf.keras.layers.Embedding(total_words, 100, input_length=msl-1),\n",
        "    tf.keras.layers.SimpleRNN(150),\n",
        "    tf.keras.layers.Dense(total_words, activation='softmax')\n",
        "])"
      ],
      "metadata": {
        "id": "5UKxCIFsLe_E"
      },
      "execution_count": 10,
      "outputs": []
    },
    {
      "cell_type": "code",
      "source": [
        "model.compile(optimizer='adam', loss='sparse_categorical_crossentropy', metrics=['accuracy'])"
      ],
      "metadata": {
        "id": "Fx4aCZT3Ly_h"
      },
      "execution_count": 11,
      "outputs": []
    },
    {
      "cell_type": "markdown",
      "source": [
        "Train the model"
      ],
      "metadata": {
        "id": "elKuAJhEL7Cy"
      }
    },
    {
      "cell_type": "code",
      "source": [
        "model.fit(X, y, epochs=10, verbose=1)"
      ],
      "metadata": {
        "colab": {
          "base_uri": "https://localhost:8080/"
        },
        "id": "mebtioAgNcMZ",
        "outputId": "41841cc1-47dc-499d-c100-02bd73f3aeb7"
      },
      "execution_count": 15,
      "outputs": [
        {
          "output_type": "stream",
          "name": "stdout",
          "text": [
            "Epoch 1/10\n",
            "3363/3363 [==============================] - 126s 38ms/step - loss: 4.9034 - accuracy: 0.1640\n",
            "Epoch 2/10\n",
            "3363/3363 [==============================] - 126s 37ms/step - loss: 4.7643 - accuracy: 0.1697\n",
            "Epoch 3/10\n",
            "3363/3363 [==============================] - 132s 39ms/step - loss: 4.6608 - accuracy: 0.1745\n",
            "Epoch 4/10\n",
            "3363/3363 [==============================] - 132s 39ms/step - loss: 4.5810 - accuracy: 0.1781\n",
            "Epoch 5/10\n",
            "3363/3363 [==============================] - 132s 39ms/step - loss: 4.5195 - accuracy: 0.1784\n",
            "Epoch 6/10\n",
            "3363/3363 [==============================] - 127s 38ms/step - loss: 4.4738 - accuracy: 0.1788\n",
            "Epoch 7/10\n",
            "3363/3363 [==============================] - 131s 39ms/step - loss: 4.4419 - accuracy: 0.1789\n",
            "Epoch 8/10\n",
            "3363/3363 [==============================] - 129s 38ms/step - loss: 4.4180 - accuracy: 0.1775\n",
            "Epoch 9/10\n",
            "3363/3363 [==============================] - 126s 37ms/step - loss: 4.4011 - accuracy: 0.1765\n",
            "Epoch 10/10\n",
            "3363/3363 [==============================] - 125s 37ms/step - loss: 4.3873 - accuracy: 0.1776\n"
          ]
        },
        {
          "output_type": "execute_result",
          "data": {
            "text/plain": [
              "<keras.src.callbacks.History at 0x79ec48143430>"
            ]
          },
          "metadata": {},
          "execution_count": 15
        }
      ]
    },
    {
      "cell_type": "markdown",
      "source": [
        "Generating next word"
      ],
      "metadata": {
        "id": "kmvl6tAZPOiK"
      }
    },
    {
      "cell_type": "code",
      "source": [
        "def generate_next_sentence(seed_text, model, tokenizer, msl, num_words=20):\n",
        "    generated_text = seed_text\n",
        "    predictions = []\n",
        "\n",
        "    for _ in range(num_words):\n",
        "        token_list = tokenizer.texts_to_sequences([generated_text])[0]\n",
        "        token_list = pad_sequences([token_list], maxlen=msl-1, padding='pre')\n",
        "        predicted_probs = model.predict(token_list, verbose=0)[0]\n",
        "        predicted_index = np.argmax(predicted_probs)\n",
        "        output_word = \"\"\n",
        "        for word, index in tokenizer.word_index.items():\n",
        "            if index == predicted_index:\n",
        "                output_word = word\n",
        "                predictions.append(output_word)\n",
        "                break\n",
        "        generated_text += \" \" + output_word\n",
        "\n",
        "    return generated_text, predictions"
      ],
      "metadata": {
        "id": "TrSEOMzKOz0l"
      },
      "execution_count": 16,
      "outputs": []
    },
    {
      "cell_type": "code",
      "source": [
        "seed_text = \"This eBook is for the use of\"\n",
        "generated_text, predictions = generate_next_sentence(seed_text, model, tokenizer, msl, num_words=5)\n",
        "\n",
        "print(seed_text)\n",
        "print(\"Associated Predictions:\", predictions)\n",
        "print(\"Generated Text:\", generated_text)"
      ],
      "metadata": {
        "colab": {
          "base_uri": "https://localhost:8080/"
        },
        "id": "GSI2e2MPPXRa",
        "outputId": "be7e1564-c29d-43c6-df03-c4d6bf6735c4"
      },
      "execution_count": 17,
      "outputs": [
        {
          "output_type": "stream",
          "name": "stdout",
          "text": [
            "This eBook is for the use of\n",
            "Associated Predictions: ['the', 'same', 'relative', 'position', 'in']\n",
            "Generated Text: This eBook is for the use of the same relative position in\n"
          ]
        }
      ]
    }
  ]
}